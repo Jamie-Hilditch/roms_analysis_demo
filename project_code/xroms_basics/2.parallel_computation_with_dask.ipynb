{
 "cells": [
  {
   "cell_type": "code",
   "execution_count": 1,
   "id": "f0d6a8cb-4db5-47b0-92df-b41bd3292598",
   "metadata": {},
   "outputs": [],
   "source": [
    "import os\n",
    "import pathlib\n",
    "\n",
    "import dask\n",
    "import dask_jobqueue\n",
    "import dotenv\n",
    "import numpy as np\n",
    "import xarray as xr\n",
    "import xroms"
   ]
  },
  {
   "cell_type": "code",
   "execution_count": null,
   "id": "d19cc635-c5c1-470a-8af8-5a34ab9a4af8",
   "metadata": {},
   "outputs": [],
   "source": []
  }
 ],
 "metadata": {
  "kernelspec": {
   "display_name": "roms_demo",
   "language": "python",
   "name": "roms_demo"
  },
  "language_info": {
   "codemirror_mode": {
    "name": "ipython",
    "version": 3
   },
   "file_extension": ".py",
   "mimetype": "text/x-python",
   "name": "python",
   "nbconvert_exporter": "python",
   "pygments_lexer": "ipython3",
   "version": "3.12.1"
  }
 },
 "nbformat": 4,
 "nbformat_minor": 5
}
